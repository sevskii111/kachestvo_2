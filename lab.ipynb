{
 "cells": [
  {
   "cell_type": "code",
   "execution_count": 1,
   "id": "6f653f26-111d-4b11-b3d6-d772b4a367e1",
   "metadata": {},
   "outputs": [],
   "source": [
    "import pandas as pd\n",
    "import numpy as np\n",
    "import matplotlib.pyplot as plt"
   ]
  },
  {
   "cell_type": "code",
   "execution_count": 2,
   "id": "a051ba13-0ebd-46c5-907a-9c9b1f58d08f",
   "metadata": {},
   "outputs": [],
   "source": [
    "def dist(X, Y):\n",
    "    return (X * X + Y * Y) ** 0.5"
   ]
  },
  {
   "cell_type": "code",
   "execution_count": 3,
   "id": "c6286c46-8824-448c-aa69-76d4dbdd62d1",
   "metadata": {},
   "outputs": [],
   "source": [
    "def generate_data(N: int):\n",
    "    df = pd.DataFrame(columns=[\"X\", \"Y\"])\n",
    "    df[\"X\"] = np.random.normal(0, 10, N)\n",
    "    df[\"Y\"] = np.random.normal(0, 10, N)\n",
    "    return df"
   ]
  },
  {
   "cell_type": "code",
   "execution_count": 4,
   "id": "43263e57-e542-4ddb-865c-003cb1faa0d6",
   "metadata": {},
   "outputs": [],
   "source": [
    "from ipywidgets import GridspecLayout, Button, Layout, Label, Output, TwoByTwoLayout, IntSlider, interact_manual\n",
    "\n",
    "medals = ['🥇', '🥈', '🥉', '']\n",
    "\n",
    "def create_output(X, Y, rank):\n",
    "    D = dist(X, Y)\n",
    "    output = Output()\n",
    "    with output:\n",
    "        print(f\"Максимальное: {max(D):.2f}, Минимальное: {min(D):.2f}, Среднее: {np.mean(D):.2f}, {medals[rank]}\")\n",
    "        fig, axes = plt.subplots()\n",
    "        axes.set_aspect('equal', adjustable='box')\n",
    "        axes.set_xlim(-200, 200)\n",
    "        axes.set_ylim(-200, 200)\n",
    "        axes.scatter(X, Y)\n",
    "        plt.show(fig)\n",
    "    return output"
   ]
  },
  {
   "cell_type": "code",
   "execution_count": 5,
   "id": "5e509a7d-6f13-4d45-bd1b-27cf8de094b0",
   "metadata": {},
   "outputs": [],
   "source": [
    "def experiment(N):\n",
    "    data = generate_data(N)\n",
    "    \n",
    "    X1, Y1 = data[\"X\"].copy().to_numpy(), data[\"Y\"].copy().to_numpy()\n",
    "    D1 = np.mean(dist(X1, Y1))\n",
    "    \n",
    "    X2, Y2 = data[\"X\"].copy().to_numpy(), data[\"Y\"].copy().to_numpy()\n",
    "    X2[1:] -= X2[:-1]\n",
    "    Y2[1:] -= Y2[:-1]\n",
    "    D2 = np.mean(dist(X2, Y2))\n",
    "    \n",
    "    X3, Y3 = data[\"X\"].copy().to_numpy(), data[\"Y\"].copy().to_numpy()\n",
    "    for i in range(1, len(X3)):\n",
    "        X3[i] -= X3[i - 1]\n",
    "        Y3[i] -= Y3[i - 1]\n",
    "    D3 = np.mean(dist(X3, Y3))\n",
    "        \n",
    "    X4, Y4 = data[\"X\"].copy().to_numpy(), data[\"Y\"].copy().to_numpy()\n",
    "    for i in range(1, len(X3)):\n",
    "        X4[i] += X4[i - 1]\n",
    "        Y4[i] += Y4[i - 1]\n",
    "    D4 = np.mean(dist(X4, Y4))\n",
    "\n",
    "    rank = np.argsort([D1, D2, D3, D4])\n",
    "        \n",
    "    layout_2x2 = TwoByTwoLayout(top_left=create_output(X1, Y1, rank[0]),\n",
    "                            top_right=create_output(X2, Y2, rank[1]),\n",
    "                            bottom_left=create_output(X3, Y3, rank[2]),\n",
    "                            bottom_right=create_output(X4, Y4, rank[3]))\n",
    "    return layout_2x2"
   ]
  },
  {
   "cell_type": "code",
   "execution_count": 6,
   "id": "c285d158-c40b-40b4-9aca-23f031ed2e3c",
   "metadata": {},
   "outputs": [
    {
     "data": {
      "application/vnd.jupyter.widget-view+json": {
       "model_id": "98f6dc8dbe79473e8527e63efae63f9f",
       "version_major": 2,
       "version_minor": 0
      },
      "text/plain": [
       "interactive(children=(IntSlider(value=100, description='N', max=100000, min=1), Button(description='Показать',…"
      ]
     },
     "metadata": {},
     "output_type": "display_data"
    }
   ],
   "source": [
    "interact_manual.options(manual_name=\"Показать\")(experiment, N=IntSlider(min=1, max=100000, step=1, value=100));"
   ]
  },
  {
   "cell_type": "code",
   "execution_count": null,
   "id": "b40bd230-1e0d-4f88-90e3-9889eed49572",
   "metadata": {},
   "outputs": [],
   "source": []
  },
  {
   "cell_type": "code",
   "execution_count": null,
   "id": "1509f56c",
   "metadata": {},
   "outputs": [],
   "source": []
  }
 ],
 "metadata": {
  "kernelspec": {
   "display_name": "Python 3 (ipykernel)",
   "language": "python",
   "name": "python3"
  },
  "language_info": {
   "codemirror_mode": {
    "name": "ipython",
    "version": 3
   },
   "file_extension": ".py",
   "mimetype": "text/x-python",
   "name": "python",
   "nbconvert_exporter": "python",
   "pygments_lexer": "ipython3",
   "version": "3.9.7"
  }
 },
 "nbformat": 4,
 "nbformat_minor": 5
}
